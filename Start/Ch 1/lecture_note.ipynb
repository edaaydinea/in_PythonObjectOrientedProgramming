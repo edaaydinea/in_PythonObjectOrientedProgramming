{
 "cells": [
  {
   "cell_type": "markdown",
   "metadata": {},
   "source": [
    "# Object-oriented programming refresher\n",
    "\n",
    "* Class: A blueprint for creating objects of a particular type.\n",
    "* Methods: Regular functions that are part of a class\n",
    "* Attributes: Variables that hold data that are part of a class\n",
    "* Object: A specific instance of a class\n",
    "* Inheritance: Means by which a class can inherit capabilities from another\n",
    "* Composition: Means of building complex objects out of other objects"
   ]
  }
 ],
 "metadata": {
  "language_info": {
   "name": "python"
  }
 },
 "nbformat": 4,
 "nbformat_minor": 2
}
